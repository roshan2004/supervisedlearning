{
 "cells": [
  {
   "cell_type": "code",
   "execution_count": 1,
   "metadata": {},
   "outputs": [],
   "source": [
    "import pandas as pd\n",
    "import numpy as np\n",
    "import matplotlib.pyplot as plt"
   ]
  },
  {
   "cell_type": "markdown",
   "metadata": {},
   "source": [
    "### Linear Regression\n",
    "\n",
    "Given a set of data points, find a line that fits the data best! This is the simplest form of regression, and allows us to make predictions of future points.\n"
   ]
  },
  {
   "cell_type": "markdown",
   "metadata": {},
   "source": [
    "### Introduction to Linear Regression\n",
    "\n",
    "The purpose of machine learning is often to create a model that explains some real-world data, so that we can predict what may happen next, with different inputs.\n",
    "\n",
    "The simplest model that we can fit to data is a line. When we are trying to find a line that fits a set of data best, we are performing Linear Regression.\n",
    "\n",
    "We often want to find lines to fit data, so that we can predict unknowns. For example:\n",
    "\n",
    "    The market price of a house vs. the square footage of a house. Can we predict how much a house will sell for, given its size?\n",
    "    The tax rate of a country vs. its GDP. Can we predict taxation based on a country’s GDP?\n",
    "    The amount of chips left in the bag vs. number of chips taken. Can we predict how much longer this bag of chips will last, given how much people at this party have been eating?\n",
    "\n",
    "Imagine that we had this set of weights plotted against heights of a large set of professional baseball players:\n",
    "<img src = 'https://s3.amazonaws.com/codecademy-content/programs/data-science-path/linear_regression/weight_height.png'>\n",
    "To create a linear model to explain this data, we might draw this line:\n",
    "<img src = 'https://s3.amazonaws.com/codecademy-content/programs/data-science-path/linear_regression/weight_height_line.png'>"
   ]
  },
  {
   "cell_type": "markdown",
   "metadata": {},
   "source": [
    "Now, if we wanted to estimate the weight of a player with a height of 73 inches, we could estimate that it is around 143 pounds.\n",
    "\n",
    "A line is a rough approximation, but it allows us the ability to explain and predict variables that have a linear relationship with each other. In the rest of the lesson, we will learn how to perform Linear Regression."
   ]
  },
  {
   "cell_type": "code",
   "execution_count": 2,
   "metadata": {},
   "outputs": [
    {
     "data": {
      "image/png": "[encoded data removed]",
      "text/plain": [
       "<Figure size 432x288 with 1 Axes>"
      ]
     },
     "metadata": {
      "needs_background": "light"
     },
     "output_type": "display_data"
    }
   ],
   "source": [
    "import matplotlib.pyplot as plt\n",
    "\n",
    "months = [1, 2, 3, 4, 5, 6, 7, 8, 9, 10, 11, 12]\n",
    "revenue = [52, 74, 79, 95, 115, 110, 129, 126, 147, 146, 156, 184]\n",
    "\n",
    "plt.plot(months, revenue, \"o\")\n",
    "\n",
    "plt.title(\"Sandra's Lemonade Stand\")\n",
    "\n",
    "plt.xlabel(\"Months\")\n",
    "plt.ylabel(\"Revenue ($)\")\n",
    "\n",
    "plt.show()"
   ]
  },
  {
   "cell_type": "markdown",
   "metadata": {},
   "source": [
    "### Points and Lines\n",
    "\n",
    "In the last exercise, you were probably able to make a rough estimate about the next data point for Sandra’s lemonade stand without thinking too hard about it. For our program to make the same level of guess, we have to determine what a line would look like through those data points.\n",
    "\n",
    "A line is determined by its slope and its intercept. In other words, for each point y on a line we can say:\n",
    "\n",
    "$$y=mx+b$$\n",
    "\n",
    "where m is the slope, and b is the intercept. y is a given point on the y-axis, and it corresponds to a given x on the x-axis.\n",
    "\n",
    "The slope is a measure of how steep the line is, while the intercept is a measure of where the line hits the y-axis.\n",
    "\n",
    "When we perform Linear Regression, the goal is to get the “best” m and b for our data. We will determine what “best” means in the next exercises.\n"
   ]
  },
  {
   "cell_type": "code",
   "execution_count": 3,
   "metadata": {},
   "outputs": [
    {
     "data": {
      "image/png": "[encoded data removed]",
      "text/plain": [
       "<Figure size 432x288 with 1 Axes>"
      ]
     },
     "metadata": {
      "needs_background": "light"
     },
     "output_type": "display_data"
    }
   ],
   "source": [
    "import matplotlib.pyplot as plt\n",
    "months = [1, 2, 3, 4, 5, 6, 7, 8, 9, 10, 11, 12]\n",
    "revenue = [52, 74, 79, 95, 115, 110, 129, 126, 147, 146, 156, 184]\n",
    "\n",
    "#slope:\n",
    "m = 12\n",
    "#intercept:\n",
    "b = 40\n",
    "y = [m*x+b for x in months]\n",
    "\n",
    "plt.plot(months, revenue, \"o\")\n",
    "plt.plot(months, y)\n",
    "\n",
    "plt.show()\n"
   ]
  },
  {
   "cell_type": "markdown",
   "metadata": {},
   "source": [
    "### Loss\n",
    "\n",
    "When we think about how we can assign a slope and intercept to fit a set of points, we have to define what the best fit is.\n",
    "\n",
    "For each data point, we calculate loss, a number that measures how bad the model’s (in this case, the line’s) prediction was. You may have seen this being referred to as error.\n",
    "\n",
    "We can think about loss as the squared distance from the point to the line. We do the squared distance (instead of just the distance) so that points above and below the line both contribute to total loss in the same way:\n",
    "<img src = 'https://s3.amazonaws.com/codecademy-content/programs/machine-learning/linear-regression/points.svg'>\n",
    "In this example:\n",
    "\n",
    "    For point A, the squared distance is 9 (3²)\n",
    "    For point B, the squared distance is 1 (1²)\n",
    "\n",
    "So the total loss, with this model, is 10. If we found a line that had less loss than 10, that line would be a better model for this data."
   ]
  },
  {
   "cell_type": "markdown",
   "metadata": {},
   "source": [
    "1. We have three points, (1, 5), (2, 1), and (3, 3). We are trying to find a line that produces lowest loss.We have provided you the list of x-values, x, and y-values, y, for these points.Find the y-values that the line with weights m1 and b1 would predict for the x-values given. Store these in a list called y_predicted1.\n",
    "2. Find the y values that the line with weights m2 and b2 would predict for the x-values given. Store these in a list called y_predicted2.\n",
    "3. Create a variable called total_loss1 and set it equal to zero. Then, find the sum of the squared distance between the actual y-values of the points and the y_predicted1 values by looping through the list:\n",
    "\n",
    "    Calculating the difference between y and y_predicted1\n",
    "    Squaring the difference\n",
    "    Adding it to total_loss1\n",
    "4. Create a variable called total_loss2 and set it equal to zero.Find the sum of the squared distance between the actual y-values of the points and the y_predicted2 values by looping through the list:\n",
    "\n",
    "    Calculating the difference between y and y_predicted2\n",
    "    Squaring the difference\n",
    "    Adding it to total_loss2\n",
    "5. Print out total_loss1 and total_loss2. Out of these two lines, which would you use to model the points? Create a variable called better_fit and assign it to 1 if line 1 fits the data better and 2 if line 2 fits the data better.\n",
    "\n",
    "\n",
    "\n",
    "\n",
    "\n"
   ]
  },
  {
   "cell_type": "code",
   "execution_count": 4,
   "metadata": {},
   "outputs": [
    {
     "name": "stdout",
     "output_type": "stream",
     "text": [
      "17\n",
      "13.5\n"
     ]
    }
   ],
   "source": [
    "x = [1, 2, 3]\n",
    "y = [5, 1, 3]\n",
    "\n",
    "#y = x\n",
    "m1 = 1\n",
    "b1 = 0\n",
    "y_predicted1 = [m1*i+b1 for i in x] \n",
    "\n",
    "#y = 0.5x + 1\n",
    "m2 = 0.5\n",
    "b2 = 1\n",
    "y_predicted2 = [m2*i+b2 for i in x]\n",
    "\n",
    "total_loss1 = 0\n",
    "for i in range(len(y)):\n",
    "  y1diff_square =(y[i] - y_predicted1[i])**2\n",
    "  total_loss1 +=y1diff_square\n",
    "\n",
    "total_loss2 = 0\n",
    "for i in range(len(y)):\n",
    "  y2diff_square =(y[i] - y_predicted2[i])**2\n",
    "  total_loss2 +=y2diff_square\n",
    "print(total_loss1)\n",
    "print(total_loss2)"
   ]
  },
  {
   "cell_type": "markdown",
   "metadata": {},
   "source": [
    "### Minimizing Loss\n",
    "\n",
    "The goal of a linear regression model is to find the slope and intercept pair that minimizes loss on average across all of the data."
   ]
  },
  {
   "cell_type": "markdown",
   "metadata": {},
   "source": [
    "### Gradient Descent for Intercept\n",
    "\n",
    "As we try to minimize loss, we take each parameter we are changing, and move it as long as we are decreasing loss. It’s like we are moving down a hill, and stop once we reach the bottom:\n",
    "<img src = 'https://s3.amazonaws.com/codecademy-content/programs/data-science-path/linear_regression/loss_curve.svg'>\n",
    "The process by which we do this is called gradient descent. We move in the direction that decreases our loss the most. Gradient refers to the slope of the curve at any point.\n",
    "\n",
    "For example, let’s say we are trying to find the intercept for a line. We currently have a guess of 10 for the intercept. At the point of 10 on the curve, the slope is downward. Therefore, if we increase the intercept, we should be lowering the loss. So we follow the gradient downwards.\n",
    "<img src = 'https://s3.amazonaws.com/codecademy-content/programs/data-science-path/linear_regression/Linear_regression_gif_1.gif'>\n",
    "We derive these gradients using calculus. It is not crucial to understand how we arrive at the gradient equation. To find the gradient of loss as intercept changes, the formula comes out to be:\n",
    "$$\\frac{2}{N}\\sum_{i=1}^{N}-(y_i-(mx_i+b))$$\n",
    "\n",
    "    N is the number of points we have in our dataset\n",
    "    m is the current gradient guess\n",
    "    b is the current intercept guess\n",
    "\n",
    "Basically:\n",
    "\n",
    "    we find the sum of y_value - (m*x_value + b) for all the y_values and x_values we have\n",
    "    and then we multiply the sum by a factor of -2/N. N is the number of points we have.\n"
   ]
  },
  {
   "cell_type": "markdown",
   "metadata": {},
   "source": [
    "1. Define a function called get_gradient_at_b() that takes in a set of x values, x, a set of y values, y, a slope m, and an intercept value b. For now, have it return b, unchanged.\n",
    "2. In the get_gradient_at_b() function, we want to go through all of the x values and all of the y values and compute (y - (m*x+b)) for each of them.Create a variable called diff that has the sum of all of these values. Instead of returning b from the get_gradient_at_b() function, return diff.\n",
    "3. Still in the get_gradient_at_b() function, define a variable called b_gradient and set it equal to the -2/N multiplied by diff. Note: N is the number of points, i.e. the length of the x list or the y list.Instead of returning diff, return b_gradient.\n",
    "\n",
    "\n",
    "\n"
   ]
  },
  {
   "cell_type": "code",
   "execution_count": 5,
   "metadata": {},
   "outputs": [],
   "source": [
    "def get_gradient_at_b(x,y,m,b):\n",
    "  diff = 0\n",
    "  for i in range(len(x)):\n",
    "    diff += y[i] - (m*x[i] +b)\n",
    "  b_gradient = (-2/len(x))*diff\n",
    "  \n",
    "\n",
    "\n",
    "  return b_gradient"
   ]
  },
  {
   "cell_type": "markdown",
   "metadata": {},
   "source": [
    "### Gradient Descent for Slope\n",
    "\n",
    "We have a function to find the gradient of b at every point. To find the m gradient, or the way the loss changes as the slope of our line changes, we can use this formula:\n",
    "$$\\frac{2}{N}\\sum_{i=1}^{N}-x_i(y_i-(mx_i+b))$$"
   ]
  },
  {
   "cell_type": "markdown",
   "metadata": {},
   "source": [
    "Once more:\n",
    "\n",
    "    N is the number of points you have in your dataset\n",
    "    m is the current gradient guess\n",
    "    b is the current intercept guess\n",
    "\n",
    "To find the m gradient:\n",
    "\n",
    "    we find the sum of x_value * (y_value - (m*x_value + b)) for all the y_values and x_values we have\n",
    "    and then we multiply the sum by a factor of -2/N. N is the number of points we have.\n",
    "\n",
    "Once we have a way to calculate both the m gradient and the b gradient, we’ll be able to follow both of those gradients downwards to the point of lowest loss for both the m value and the b value. Then, we’ll have the best m and the best b to fit our data! "
   ]
  },
  {
   "cell_type": "markdown",
   "metadata": {},
   "source": [
    "1. Define a function called get_gradient_at_m() that takes in a set of x values, x, a set of y values, y, a slope m, and an intercept value b. For now, have it return m.\n",
    "2. In this function, we want to go through all of the x values and all of the y values and compute x*(y - (m*x+b)) for each of them. Create a variable called diff that has the sum of all of these values, and return it from the function.\n",
    "3. Define a variable called m_gradient and set it equal to the -2/N multiplied by diff. Instead of returning diff, return m_gradient.\f",
    "\n",
    "\n",
    "\n"
   ]
  },
  {
   "cell_type": "code",
   "execution_count": 6,
   "metadata": {},
   "outputs": [],
   "source": [
    "def get_gradient_at_b(x, y, m, b):\n",
    "    diff = 0\n",
    "    N = len(x)\n",
    "    for i in range(N):\n",
    "      y_val = y[i]\n",
    "      x_val = x[i]\n",
    "      diff += (y_val - ((m * x_val) + b))\n",
    "    b_gradient = -2/N * diff\n",
    "    return b_gradient\n",
    "  \n",
    "\n",
    "def get_gradient_at_m(x,y,m,b):\n",
    "  diff = 0\n",
    "  for i in range(len(x)):\n",
    "    diff += x[i]*(y[i] - (m*x[i] + b))\n",
    "  m_gradient = (-2/len(x))*diff\n",
    "\n",
    "  return m_gradient"
   ]
  },
  {
   "cell_type": "markdown",
   "metadata": {},
   "source": [
    "### Put it Together\n",
    "\n",
    "Now that we know how to calculate the gradient, we want to take a “step” in that direction. However, it’s important to think about whether that step is too big or too small. We don’t want to overshoot the minimum error!\n",
    "\n",
    "We can scale the size of the step by multiplying the gradient by a learning rate.\n",
    "\n",
    "To find a new b value, we would say:\n",
    "\n",
    "new_b = current_b - (learning_rate * b_gradient)\n",
    "\n",
    "where current_b is our guess for what the b value is, b_gradient is the gradient of the loss curve at our current guess, and learning_rate is proportional to the size of the step we want to take.\n",
    "\n",
    "In a few exercises, we’ll talk about the implications of a large or small learning rate, but for now, let’s use a fairly small value.\n"
   ]
  },
  {
   "cell_type": "markdown",
   "metadata": {},
   "source": [
    "1. Define a function called step_gradient() that takes in x, y, b_current, and m_current. This function will find the gradients at b_current and m_current, and then return new b and m values that have been moved in that direction. For now, just return the pair (b_current, m_current).\n",
    "2. Inside step_gradient(), find the gradient at b_current and the gradient at m_current using the functions defined before (get_gradient_at_b and get_gradient_at_m).Store these gradients in variables called b_gradient and m_gradient, and return these from the function instead of b_current and m_current. Return them as a list.\n",
    "3. Let’s try to move the parameter values in the direction of the gradient at a rate of 0.01.Create variables called b and m:\n",
    "\n",
    "    b should be b_current - (0.01 * b_gradient)  \n",
    "    m should be m_current - (0.01 * m_gradient)  \n",
    "    Return the pair b and m from the function.\n",
    "4. We have provided Sandra’s lemonade data once more. We have a guess for what we think the b and m might be. Call your function to perform one step of gradient descent. Store the results in the variables b and m. Great! We have a way to step to new b and m values! Next, we will call this function a bunch, in order to move those values towards lower and lower loss.\n",
    "\n",
    "\n",
    "\n"
   ]
  },
  {
   "cell_type": "code",
   "execution_count": 7,
   "metadata": {},
   "outputs": [
    {
     "name": "stdout",
     "output_type": "stream",
     "text": [
      "2.355 17.78333333333333\n"
     ]
    }
   ],
   "source": [
    "def get_gradient_at_b(x, y, b, m):\n",
    "  N = len(x)\n",
    "  diff = 0\n",
    "  for i in range(N):\n",
    "    x_val = x[i]\n",
    "    y_val = y[i]\n",
    "    diff += (y_val - ((m * x_val) + b))\n",
    "  b_gradient = -(2/N) * diff  \n",
    "  return b_gradient\n",
    "\n",
    "def get_gradient_at_m(x, y, b, m):\n",
    "  N = len(x)\n",
    "  diff = 0\n",
    "  for i in range(N):\n",
    "      x_val = x[i]\n",
    "      y_val = y[i]\n",
    "      diff += x_val * (y_val - ((m * x_val) + b))\n",
    "  m_gradient = -(2/N) * diff  \n",
    "  return m_gradient\n",
    "\n",
    "# Define your step_gradient function here\n",
    "def step_gradient(x,y,b_current, m_current):\n",
    "  b_gradient = get_gradient_at_b(x,y,b_current,m_current)\n",
    "  m_gradient = get_gradient_at_m(x,y,b_current,m_current)\n",
    "  b = b_current - (0.01*b_gradient)\n",
    "  m = m_current - (0.01*m_gradient)\n",
    "  return b,m\n",
    "months = [1, 2, 3, 4, 5, 6, 7, 8, 9, 10, 11, 12]\n",
    "revenue = [52, 74, 79, 95, 115, 110, 129, 126, 147, 146, 156, 184]\n",
    "\n",
    "# current intercept guess:\n",
    "b = 0\n",
    "# current slope guess:\n",
    "m = 0\n",
    "\n",
    "# Call your function here to update b and m\n",
    "b,m = step_gradient(months, revenue ,b, m)\n",
    "print(b, m)"
   ]
  },
  {
   "cell_type": "markdown",
   "metadata": {},
   "source": [
    "### Convergence\n",
    "\n",
    "How do we know when we should stop changing the parameters m and b? How will we know when our program has learned enough?\n",
    "\n",
    "To answer this, we have to define convergence. Convergence is when the loss stops changing (or changes very slowly) when parameters are changed.\n",
    "\n",
    "Hopefully, the algorithm will converge at the best values for the parameters m and b.\n"
   ]
  },
  {
   "cell_type": "markdown",
   "metadata": {},
   "source": [
    "### Learning Rate\n",
    "\n",
    "We want our program to be able to iteratively learn what the best m and b values are. So for each m and b pair that we guess, we want to move them in the direction of the gradients we’ve calculated. But how far do we move in that direction?\n",
    "\n",
    "We have to choose a learning rate, which will determine how far down the loss curve we go.\n",
    "\n",
    "A small learning rate will take a long time to converge — you might run out of time or cycles before getting an answer. A large learning rate might skip over the best value. It might never converge! Oh no!\n",
    "<img src = 'https://s3.amazonaws.com/codecademy-content/programs/data-science-path/linear_regression/Linear_regression_gif_2.gif'>"
   ]
  },
  {
   "cell_type": "markdown",
   "metadata": {},
   "source": [
    "Finding the absolute best learning rate is not necessary for training a model. You just have to find a learning rate large enough that gradient descent converges with the efficiency you need, and not so large that convergence never happens."
   ]
  },
  {
   "cell_type": "markdown",
   "metadata": {},
   "source": [
    "### Put it Together II\n",
    "\n",
    "At each step, we know how to calculate the gradient and move in that direction with a step size proportional to our learning rate. Now, we want to make these steps until we reach convergence.\n"
   ]
  },
  {
   "cell_type": "markdown",
   "metadata": {},
   "source": [
    "1. We have all of the functions we have defined throughout the lesson.Now, let’s create a function called gradient_descent() that takes in x, y, learning_rate, and a num_iterations. For now, return [-1,-1].\n",
    "2. In the function gradient_descent(), create variables b and m and set them both to zero for our initial guess.Return b and m from the function.\n",
    "3. Update your step_gradient() function to take in the parameter learning_rate (as the last parameter) and replace the 0.01s in the calculations of b_gradient and m_gradient with learning_rate\n",
    "4. Let’s go back and finish the gradient_descent() function. Create a loop that runs num_iterations times. At each step, it should:\n",
    "\n",
    "    Call step_gradient() with b, m, x, y, and learning_rate\n",
    "    Update the values of b and m with the values step_gradient() returns.\n",
    "5. Outside of the function, uncomment the line that calls gradient_descent on months and revenue, with a learning rate of 0.01 and 1000 iterations. It stores the results in variables called b and m.\n",
    "\n",
    "\n",
    "\n"
   ]
  },
  {
   "cell_type": "code",
   "execution_count": 11,
   "metadata": {},
   "outputs": [
    {
     "data": {
      "image/png": "[encoded data removed]",
      "text/plain": [
       "<Figure size 432x288 with 1 Axes>"
      ]
     },
     "metadata": {
      "needs_background": "light"
     },
     "output_type": "display_data"
    }
   ],
   "source": [
    "\n",
    "import matplotlib.pyplot as plt\n",
    "\n",
    "def get_gradient_at_b(x, y, b, m):\n",
    "  N = len(x)\n",
    "  diff = 0\n",
    "  for i in range(N):\n",
    "    x_val = x[i]\n",
    "    y_val = y[i]\n",
    "    diff += (y_val - ((m * x_val) + b))\n",
    "  b_gradient = -(2/N) * diff  \n",
    "  return b_gradient\n",
    "\n",
    "def get_gradient_at_m(x, y, b, m):\n",
    "  N = len(x)\n",
    "  diff = 0\n",
    "  for i in range(N):\n",
    "      x_val = x[i]\n",
    "      y_val = y[i]\n",
    "      diff += x_val * (y_val - ((m * x_val) + b))\n",
    "  m_gradient = -(2/N) * diff  \n",
    "  return m_gradient\n",
    "\n",
    "#Your step_gradient function here\n",
    "def step_gradient(b_current, m_current, x, y, learning_rate):\n",
    "    b_gradient = get_gradient_at_b(x, y, b_current, m_current)\n",
    "    m_gradient = get_gradient_at_m(x, y, b_current, m_current)\n",
    "    b = b_current - (learning_rate * b_gradient)\n",
    "    m = m_current - (learning_rate * m_gradient)\n",
    "    return [b, m]\n",
    "  \n",
    "#Your gradient_descent function here:  \n",
    "def gradient_descent(x,y,learning_rate,num_iterations):\n",
    "  \n",
    "  b = 0\n",
    "  m = 0\n",
    "  for i in range(num_iterations):\n",
    "    b,m = step_gradient(b,m,x,y,learning_rate)\n",
    "  \n",
    "  return b,m\n",
    "\n",
    "months = [1, 2, 3, 4, 5, 6, 7, 8, 9, 10, 11, 12]\n",
    "revenue = [52, 74, 79, 95, 115, 110, 129, 126, 147, 146, 156, 184]\n",
    "\n",
    "#Uncomment the line below to run your gradient_descent function\n",
    "b, m = gradient_descent(months, revenue, 0.01, 1000)\n",
    "\n",
    "#Uncomment the lines below to see the line you've settled upon!\n",
    "y = [m*x + b for x in months]\n",
    "\n",
    "plt.plot(months, revenue, \"o\")\n",
    "plt.plot(months, y)\n",
    "\n",
    "plt.show()\n",
    "\n",
    "\n"
   ]
  },
  {
   "cell_type": "markdown",
   "metadata": {},
   "source": [
    "### Use Your Functions on Real Data\n",
    "\n",
    "We have constructed a way to find the “best” b and m values using gradient descent! Let’s try this on the set of baseball players’ heights and weights that we saw at the beginning of the lesson.\n"
   ]
  },
  {
   "cell_type": "markdown",
   "metadata": {},
   "source": [
    "We have imported your gradient_descent() function. Call it with parameters:\n",
    "\n",
    "    X\n",
    "    y\n",
    "    num_iterations of 1000\n",
    "    learning_rate of 0.0001\n",
    "\n",
    "Store the result in variables called b and m.\n"
   ]
  },
  {
   "cell_type": "markdown",
   "metadata": {},
   "source": [
    "Create a list called y_predictions. Set it to be every element of X multiplied by m and added to b.\n",
    "\n",
    "The easiest way to do this would be a list comprehension:  \n",
    "<code>new_y = [element*slope + intercept for element in y]</code>  \n",
    "Plot X vs y_predictions on the same plot as the scatterplot.\n",
    "\n",
    "Does the line look right?\n"
   ]
  },
  {
   "cell_type": "code",
   "execution_count": 12,
   "metadata": {},
   "outputs": [
    {
     "data": {
      "image/png": "[encoded data removed]",
      "text/plain": [
       "<Figure size 432x288 with 1 Axes>"
      ]
     },
     "metadata": {
      "needs_background": "light"
     },
     "output_type": "display_data"
    }
   ],
   "source": [
    "\n",
    "import pandas as pd\n",
    "import matplotlib.pyplot as plt\n",
    "\n",
    "def get_gradient_at_b(x, y, b, m):\n",
    "  N = len(x)\n",
    "  diff = 0\n",
    "  for i in range(N):\n",
    "    x_val = x[i]\n",
    "    y_val = y[i]\n",
    "    diff += (y_val - ((m * x_val) + b))\n",
    "  b_gradient = -(2/N) * diff  \n",
    "  return b_gradient\n",
    "\n",
    "def get_gradient_at_m(x, y, b, m):\n",
    "  N = len(x)\n",
    "  diff = 0\n",
    "  for i in range(N):\n",
    "      x_val = x[i]\n",
    "      y_val = y[i]\n",
    "      diff += x_val * (y_val - ((m * x_val) + b))\n",
    "  m_gradient = -(2/N) * diff  \n",
    "  return m_gradient\n",
    "\n",
    "#Your step_gradient function here\n",
    "def step_gradient(b_current, m_current, x, y, learning_rate):\n",
    "    b_gradient = get_gradient_at_b(x, y, b_current, m_current)\n",
    "    m_gradient = get_gradient_at_m(x, y, b_current, m_current)\n",
    "    b = b_current - (learning_rate * b_gradient)\n",
    "    m = m_current - (learning_rate * m_gradient)\n",
    "    return [b, m]\n",
    "\n",
    "def gradient_descent(x, y, learning_rate, num_iterations):\n",
    "    b = 0\n",
    "    m = 0\n",
    "    for i in range(num_iterations):\n",
    "        b, m = step_gradient(b, m, x, y, learning_rate)\n",
    "    return [b, m]\n",
    "\n",
    "df = pd.read_csv(\"heights.csv\")\n",
    "\n",
    "\n",
    "X = df[\"height\"]\n",
    "y = df[\"weight\"]\n",
    "\n",
    "plt.plot(X, y, 'o')\n",
    "#plot your line here:\n",
    "b,m = gradient_descent(X, y, num_iterations = 1000, learning_rate = 0.0001)\n",
    "y_predictions = [m*x+b for x in X]\n",
    "plt.plot(X, y_predictions)\n",
    "plt.show()"
   ]
  },
  {
   "cell_type": "markdown",
   "metadata": {},
   "source": [
    "### Scikit-Learn\n",
    "\n",
    "Congratulations! You’ve now built a linear regression algorithm from scratch.\n",
    "\n",
    "Luckily, we don’t have to do this every time we want to use linear regression. We can use Python’s scikit-learn library. Scikit-learn, or sklearn, is used specifically for Machine Learning. Inside the linear_model module, there is a LinearRegression() function we can use:  \n",
    "<code>from sklearn.linear_model import LinearRegression</code>  \n",
    "You can first create a LinearRegression model, and then fit it to your x and y data:  \n",
    "<code>\n",
    "line_fitter = LinearRegression()\n",
    "line_fitter.fit(X, y)\n",
    "</code>\n",
    "The .fit() method gives the model two variables that are useful to us:\n",
    "\n",
    "    the line_fitter.coef_, which contains the slope\n",
    "    the line_fitter.intercept_, which contains the intercept\n",
    "\n",
    "We can also use the .predict() function to pass in x-values and receive the y-values that this line would predict:  \n",
    "<code>y_predicted = line_fitter.predict(X)</code>  \n",
    "Note: the num_iterations and the learning_rate that you learned about in your own implementation have default values within scikit-learn, so you don’t need to worry about setting them specifically!"
   ]
  },
  {
   "cell_type": "markdown",
   "metadata": {},
   "source": [
    "1. We have imported a dataset of soup sales data vs temperature. Run the code to see the scatterplot. Can you envision the line that would fit this data?\n",
    "2. Create an sklearn linear regression model and call it line_fitter.\n",
    "3. Fit the line_fitter object to temperature and sales.\n",
    "4. Create a list called sales_predict that is the predicted sales values that line_fitter would generate from the temperature list.\n",
    "5. Plot sales_predict against temperature as a line, on the same plot as the scatterplot.\n",
    "\n",
    "\n",
    "\n",
    "\n"
   ]
  },
  {
   "cell_type": "code",
   "execution_count": 13,
   "metadata": {},
   "outputs": [
    {
     "data": {
      "image/png": "[encoded data removed]",
      "text/plain": [
       "<Figure size 432x288 with 1 Axes>"
      ]
     },
     "metadata": {
      "needs_background": "light"
     },
     "output_type": "display_data"
    }
   ],
   "source": [
    "from sklearn.linear_model import LinearRegression\n",
    "import matplotlib.pyplot as plt\n",
    "import numpy as np\n",
    "\n",
    "temperature = np.array(range(60, 100, 2))\n",
    "temperature = temperature.reshape(-1, 1)\n",
    "sales = [65, 58, 46, 45, 44, 42, 40, 40, 36, 38, 38, 28, 30, 22, 27, 25, 25, 20, 15, 5]\n",
    "line_fitter = LinearRegression()\n",
    "line_fitter.fit(temperature, sales)\n",
    "sales_predict = line_fitter.predict(temperature)\n",
    "plt.plot(temperature, sales, 'o')\n",
    "plt.plot(temperature, sales_predict)\n",
    "plt.show()"
   ]
  },
  {
   "cell_type": "markdown",
   "metadata": {},
   "source": [
    "### Review\n",
    "\n",
    "We have seen how to implement a linear regression algorithm in Python, and how to use the linear regression model from scikit-learn. We learned:\n",
    "\n",
    "    We can measure how well a line fits by measuring loss.\n",
    "    The goal of linear regression is to minimize loss.\n",
    "    To find the line of best fit, we try to find the b value (intercept) and the m value (slope) that minimize loss.\n",
    "    Convergence refers to when the parameters stop changing with each iteration.\n",
    "    Learning rate refers to how much the parameters are changed on each iteration.\n",
    "    We can use Scikit-learn’s LinearRegression() model to perform linear regression on a set of points.\n",
    "\n",
    "These are important tools to have in your toolkit as you continue your exploration of data science.\n"
   ]
  },
  {
   "cell_type": "markdown",
   "metadata": {},
   "source": [
    "As a starter, we’ve loaded in the Boston housing dataset. We made the X values the nitrogen oxides concentration (parts per 10 million), and the y values the housing prices. See if you can perform regression on these houses!"
   ]
  },
  {
   "cell_type": "code",
   "execution_count": 15,
   "metadata": {},
   "outputs": [
    {
     "data": {
      "image/png": "[encoded data removed]",
      "text/plain": [
       "<Figure size 720x576 with 1 Axes>"
      ]
     },
     "metadata": {
      "needs_background": "light"
     },
     "output_type": "display_data"
    }
   ],
   "source": [
    "import matplotlib.pyplot as plt\n",
    "import pandas as pd\n",
    "from sklearn.linear_model import LinearRegression\n",
    "from sklearn.datasets import load_boston\n",
    "\n",
    "# Boston housing dataset\n",
    "boston = load_boston()\n",
    "\n",
    "df = pd.DataFrame(boston.data, columns = boston.feature_names)\n",
    "\n",
    "# Set the x-values to the nitrogen oxide concentration:\n",
    "X = df[['NOX']]\n",
    "# Y-values are the prices:\n",
    "y = boston.target\n",
    "\n",
    "# Can we do linear regression on this?\n",
    "line_fitter = LinearRegression()\n",
    "line_fitter.fit(X,y)\n",
    "y_predict = line_fitter.predict(X)\n",
    "plt.figure(figsize = (10,8))\n",
    "plt.plot(X,y_predict)\n",
    "\n",
    "\n",
    "\n",
    "plt.scatter(X, y, alpha=0.4)\n",
    "# Plot line here:\n",
    "\n",
    "plt.title(\"Boston Housing Dataset\")\n",
    "plt.xlabel(\"Nitric Oxides Concentration\")\n",
    "plt.ylabel(\"House Price ($)\")\n",
    "plt.show()"
   ]
  },
  {
   "cell_type": "code",
   "execution_count": null,
   "metadata": {},
   "outputs": [],
   "source": []
  }
 ],
 "metadata": {
  "kernelspec": {
   "display_name": "Python 3.7.4 64-bit ('base': conda)",
   "language": "python",
   "name": "python37464bitbaseconda1eb60c76e02b4ba9a2a4c9ec9b1fa267"
  },
  "language_info": {
   "codemirror_mode": {
    "name": "ipython",
    "version": 3
   },
   "file_extension": ".py",
   "mimetype": "text/x-python",
   "name": "python",
   "nbconvert_exporter": "python",
   "pygments_lexer": "ipython3",
   "version": "3.7.4"
  }
 },
 "nbformat": 4,
 "nbformat_minor": 4
}
